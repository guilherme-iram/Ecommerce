{
 "cells": [
  {
   "cell_type": "markdown",
   "metadata": {},
   "source": [
    "# Lab - End-to-end Machine Learning\n",
    "\n",
    "### Dataset\n",
    "\n",
    "Vamos trabalhar com dataset de e-commerce da [Olist](https://www.kaggle.com/datasets/olistbr/brazilian-ecommerce).\n",
    "\n",
    "Neste dataset temos informações de ordens, entrega, localizações, reviews, preços e etc\n",
    "\n",
    "### Hipótese\n",
    "\n",
    "**Será que podemos prever qual rating que o cliente dará ao serviço?**\n",
    "\n",
    "Quais os motivos para que um pedido seja mal avaliado?\n",
    "\n",
    "1.   Atraso na entrega\n",
    "2.   Pedido veio errado, com defeito ou não satisfez a necessidade do cliente\n",
    "\n",
    "### O Fluxo de Modelagem:\n",
    "\n",
    "Este fluxo deve ser cíclico, ou seja, devemos repetir os passos até chegar na performance adequada do modelo.\n",
    "\n",
    "3. Feature Engineering\n",
    "  * Construção de novas variáveis informativas que podem ajudar o modelo a encontrar melhor os padrões nos dados\n",
    "  * Podemos realizar também um feature selection, ou seja, remover variáveis não informativas que degradam a performance do modelo\n",
    "4. Modelagem\n",
    "  * Train / Test split dos dados para evitar overfitting\n",
    "  * Construção de um baseline a ser batido\n",
    "  * Construção de modelos propícios ao problema a ser resolvido\n"
   ]
  },
  {
   "cell_type": "code",
   "execution_count": 21,
   "metadata": {},
   "outputs": [],
   "source": [
    "import pandas as pd\n",
    "import numpy as np\n",
    "pd.set_option('display.max_columns', 500)\n",
    "import warnings\n",
    "\n",
    "from pathlib import Path\n",
    "import pickle\n",
    "warnings.filterwarnings('ignore')\n",
    "\n",
    "# Importando libs de plots\n",
    "import matplotlib.pyplot as plt\n",
    "import seaborn as sns\n",
    "\n",
    "sns.set_style('darkgrid')\n",
    "# sns.set_context('talk')\n",
    "sns.set_palette('rainbow')\n",
    "sns.set_context(\"notebook\", font_scale=1.5, rc={\"lines.linewidth\": 2.5})"
   ]
  },
  {
   "cell_type": "code",
   "execution_count": 22,
   "metadata": {},
   "outputs": [
    {
     "data": {
      "text/html": [
       "<div>\n",
       "<style scoped>\n",
       "    .dataframe tbody tr th:only-of-type {\n",
       "        vertical-align: middle;\n",
       "    }\n",
       "\n",
       "    .dataframe tbody tr th {\n",
       "        vertical-align: top;\n",
       "    }\n",
       "\n",
       "    .dataframe thead th {\n",
       "        text-align: right;\n",
       "    }\n",
       "</style>\n",
       "<table border=\"1\" class=\"dataframe\">\n",
       "  <thead>\n",
       "    <tr style=\"text-align: right;\">\n",
       "      <th></th>\n",
       "      <th>shipping_limit_date</th>\n",
       "      <th>price</th>\n",
       "      <th>freight_value</th>\n",
       "      <th>product_category_name</th>\n",
       "      <th>product_name_lenght</th>\n",
       "      <th>product_description_lenght</th>\n",
       "      <th>product_photos_qty</th>\n",
       "      <th>product_weight_g</th>\n",
       "      <th>product_length_cm</th>\n",
       "      <th>product_height_cm</th>\n",
       "      <th>product_width_cm</th>\n",
       "      <th>seller_zip_code_prefix</th>\n",
       "      <th>seller_city</th>\n",
       "      <th>seller_state</th>\n",
       "      <th>order_status</th>\n",
       "      <th>order_purchase_timestamp</th>\n",
       "      <th>order_approved_at</th>\n",
       "      <th>order_delivered_carrier_date</th>\n",
       "      <th>order_delivered_customer_date</th>\n",
       "      <th>order_estimated_delivery_date</th>\n",
       "      <th>customer_zip_code_prefix</th>\n",
       "      <th>customer_city</th>\n",
       "      <th>customer_state</th>\n",
       "      <th>payment_value</th>\n",
       "      <th>review_score</th>\n",
       "      <th>customer_seller_distance</th>\n",
       "    </tr>\n",
       "  </thead>\n",
       "  <tbody>\n",
       "    <tr>\n",
       "      <th>0</th>\n",
       "      <td>2017-09-19 09:45:35</td>\n",
       "      <td>58.90</td>\n",
       "      <td>13.29</td>\n",
       "      <td>cool_stuff</td>\n",
       "      <td>58.0</td>\n",
       "      <td>598.0</td>\n",
       "      <td>4.0</td>\n",
       "      <td>650.0</td>\n",
       "      <td>28.0</td>\n",
       "      <td>9.0</td>\n",
       "      <td>14.0</td>\n",
       "      <td>27277</td>\n",
       "      <td>volta redonda</td>\n",
       "      <td>SP</td>\n",
       "      <td>delivered</td>\n",
       "      <td>2017-09-13 08:59:02</td>\n",
       "      <td>2017-09-13 09:45:35</td>\n",
       "      <td>2017-09-19 18:34:16</td>\n",
       "      <td>2017-09-20 23:43:48</td>\n",
       "      <td>2017-09-29</td>\n",
       "      <td>28013</td>\n",
       "      <td>campos dos goytacazes</td>\n",
       "      <td>RJ</td>\n",
       "      <td>72.19</td>\n",
       "      <td>5.0</td>\n",
       "      <td>301.858959</td>\n",
       "    </tr>\n",
       "    <tr>\n",
       "      <th>1</th>\n",
       "      <td>2017-05-03 11:05:13</td>\n",
       "      <td>239.90</td>\n",
       "      <td>19.93</td>\n",
       "      <td>pet_shop</td>\n",
       "      <td>56.0</td>\n",
       "      <td>239.0</td>\n",
       "      <td>2.0</td>\n",
       "      <td>30000.0</td>\n",
       "      <td>50.0</td>\n",
       "      <td>30.0</td>\n",
       "      <td>40.0</td>\n",
       "      <td>3471</td>\n",
       "      <td>sao paulo</td>\n",
       "      <td>SP</td>\n",
       "      <td>delivered</td>\n",
       "      <td>2017-04-26 10:53:06</td>\n",
       "      <td>2017-04-26 11:05:13</td>\n",
       "      <td>2017-05-04 14:35:00</td>\n",
       "      <td>2017-05-12 16:04:24</td>\n",
       "      <td>2017-05-15</td>\n",
       "      <td>15775</td>\n",
       "      <td>santa fe do sul</td>\n",
       "      <td>SP</td>\n",
       "      <td>259.83</td>\n",
       "      <td>4.0</td>\n",
       "      <td>585.131104</td>\n",
       "    </tr>\n",
       "    <tr>\n",
       "      <th>2</th>\n",
       "      <td>2018-01-18 14:48:30</td>\n",
       "      <td>199.00</td>\n",
       "      <td>17.87</td>\n",
       "      <td>moveis_decoracao</td>\n",
       "      <td>59.0</td>\n",
       "      <td>695.0</td>\n",
       "      <td>2.0</td>\n",
       "      <td>3050.0</td>\n",
       "      <td>33.0</td>\n",
       "      <td>13.0</td>\n",
       "      <td>33.0</td>\n",
       "      <td>37564</td>\n",
       "      <td>borda da mata</td>\n",
       "      <td>MG</td>\n",
       "      <td>delivered</td>\n",
       "      <td>2018-01-14 14:33:31</td>\n",
       "      <td>2018-01-14 14:48:30</td>\n",
       "      <td>2018-01-16 12:36:48</td>\n",
       "      <td>2018-01-22 13:19:16</td>\n",
       "      <td>2018-02-05</td>\n",
       "      <td>35661</td>\n",
       "      <td>para de minas</td>\n",
       "      <td>MG</td>\n",
       "      <td>216.87</td>\n",
       "      <td>5.0</td>\n",
       "      <td>311.506212</td>\n",
       "    </tr>\n",
       "    <tr>\n",
       "      <th>3</th>\n",
       "      <td>2018-08-15 10:10:18</td>\n",
       "      <td>12.99</td>\n",
       "      <td>12.79</td>\n",
       "      <td>perfumaria</td>\n",
       "      <td>42.0</td>\n",
       "      <td>480.0</td>\n",
       "      <td>1.0</td>\n",
       "      <td>200.0</td>\n",
       "      <td>16.0</td>\n",
       "      <td>10.0</td>\n",
       "      <td>15.0</td>\n",
       "      <td>14403</td>\n",
       "      <td>franca</td>\n",
       "      <td>SP</td>\n",
       "      <td>delivered</td>\n",
       "      <td>2018-08-08 10:00:35</td>\n",
       "      <td>2018-08-08 10:10:18</td>\n",
       "      <td>2018-08-10 13:28:00</td>\n",
       "      <td>2018-08-14 13:32:39</td>\n",
       "      <td>2018-08-20</td>\n",
       "      <td>12952</td>\n",
       "      <td>atibaia</td>\n",
       "      <td>SP</td>\n",
       "      <td>25.78</td>\n",
       "      <td>4.0</td>\n",
       "      <td>292.064162</td>\n",
       "    </tr>\n",
       "    <tr>\n",
       "      <th>4</th>\n",
       "      <td>2017-02-13 13:57:51</td>\n",
       "      <td>199.90</td>\n",
       "      <td>18.14</td>\n",
       "      <td>ferramentas_jardim</td>\n",
       "      <td>59.0</td>\n",
       "      <td>409.0</td>\n",
       "      <td>1.0</td>\n",
       "      <td>3750.0</td>\n",
       "      <td>35.0</td>\n",
       "      <td>40.0</td>\n",
       "      <td>30.0</td>\n",
       "      <td>87900</td>\n",
       "      <td>loanda</td>\n",
       "      <td>PR</td>\n",
       "      <td>delivered</td>\n",
       "      <td>2017-02-04 13:57:51</td>\n",
       "      <td>2017-02-04 14:10:13</td>\n",
       "      <td>2017-02-16 09:46:09</td>\n",
       "      <td>2017-03-01 16:42:31</td>\n",
       "      <td>2017-03-17</td>\n",
       "      <td>13226</td>\n",
       "      <td>varzea paulista</td>\n",
       "      <td>SP</td>\n",
       "      <td>218.04</td>\n",
       "      <td>5.0</td>\n",
       "      <td>647.209811</td>\n",
       "    </tr>\n",
       "  </tbody>\n",
       "</table>\n",
       "</div>"
      ],
      "text/plain": [
       "   shipping_limit_date   price  freight_value product_category_name  \\\n",
       "0  2017-09-19 09:45:35   58.90          13.29            cool_stuff   \n",
       "1  2017-05-03 11:05:13  239.90          19.93              pet_shop   \n",
       "2  2018-01-18 14:48:30  199.00          17.87      moveis_decoracao   \n",
       "3  2018-08-15 10:10:18   12.99          12.79            perfumaria   \n",
       "4  2017-02-13 13:57:51  199.90          18.14    ferramentas_jardim   \n",
       "\n",
       "   product_name_lenght  product_description_lenght  product_photos_qty  \\\n",
       "0                 58.0                       598.0                 4.0   \n",
       "1                 56.0                       239.0                 2.0   \n",
       "2                 59.0                       695.0                 2.0   \n",
       "3                 42.0                       480.0                 1.0   \n",
       "4                 59.0                       409.0                 1.0   \n",
       "\n",
       "   product_weight_g  product_length_cm  product_height_cm  product_width_cm  \\\n",
       "0             650.0               28.0                9.0              14.0   \n",
       "1           30000.0               50.0               30.0              40.0   \n",
       "2            3050.0               33.0               13.0              33.0   \n",
       "3             200.0               16.0               10.0              15.0   \n",
       "4            3750.0               35.0               40.0              30.0   \n",
       "\n",
       "   seller_zip_code_prefix    seller_city seller_state order_status  \\\n",
       "0                   27277  volta redonda           SP    delivered   \n",
       "1                    3471      sao paulo           SP    delivered   \n",
       "2                   37564  borda da mata           MG    delivered   \n",
       "3                   14403         franca           SP    delivered   \n",
       "4                   87900         loanda           PR    delivered   \n",
       "\n",
       "  order_purchase_timestamp    order_approved_at order_delivered_carrier_date  \\\n",
       "0      2017-09-13 08:59:02  2017-09-13 09:45:35          2017-09-19 18:34:16   \n",
       "1      2017-04-26 10:53:06  2017-04-26 11:05:13          2017-05-04 14:35:00   \n",
       "2      2018-01-14 14:33:31  2018-01-14 14:48:30          2018-01-16 12:36:48   \n",
       "3      2018-08-08 10:00:35  2018-08-08 10:10:18          2018-08-10 13:28:00   \n",
       "4      2017-02-04 13:57:51  2017-02-04 14:10:13          2017-02-16 09:46:09   \n",
       "\n",
       "  order_delivered_customer_date order_estimated_delivery_date  \\\n",
       "0           2017-09-20 23:43:48                    2017-09-29   \n",
       "1           2017-05-12 16:04:24                    2017-05-15   \n",
       "2           2018-01-22 13:19:16                    2018-02-05   \n",
       "3           2018-08-14 13:32:39                    2018-08-20   \n",
       "4           2017-03-01 16:42:31                    2017-03-17   \n",
       "\n",
       "   customer_zip_code_prefix          customer_city customer_state  \\\n",
       "0                     28013  campos dos goytacazes             RJ   \n",
       "1                     15775        santa fe do sul             SP   \n",
       "2                     35661          para de minas             MG   \n",
       "3                     12952                atibaia             SP   \n",
       "4                     13226        varzea paulista             SP   \n",
       "\n",
       "   payment_value  review_score  customer_seller_distance  \n",
       "0          72.19           5.0                301.858959  \n",
       "1         259.83           4.0                585.131104  \n",
       "2         216.87           5.0                311.506212  \n",
       "3          25.78           4.0                292.064162  \n",
       "4         218.04           5.0                647.209811  "
      ]
     },
     "execution_count": 22,
     "metadata": {},
     "output_type": "execute_result"
    }
   ],
   "source": [
    "df = pd.read_csv(\"olist_final_dataset_clean.csv\")\n",
    "\n",
    "df.head()"
   ]
  },
  {
   "cell_type": "markdown",
   "metadata": {},
   "source": [
    "## Criando novas colunas"
   ]
  },
  {
   "cell_type": "code",
   "execution_count": 23,
   "metadata": {},
   "outputs": [
    {
     "data": {
      "text/plain": [
       "Index(['shipping_limit_date', 'price', 'freight_value',\n",
       "       'product_category_name', 'product_name_lenght',\n",
       "       'product_description_lenght', 'product_photos_qty', 'product_weight_g',\n",
       "       'product_length_cm', 'product_height_cm', 'product_width_cm',\n",
       "       'seller_zip_code_prefix', 'seller_city', 'seller_state', 'order_status',\n",
       "       'order_purchase_timestamp', 'order_approved_at',\n",
       "       'order_delivered_carrier_date', 'order_delivered_customer_date',\n",
       "       'order_estimated_delivery_date', 'customer_zip_code_prefix',\n",
       "       'customer_city', 'customer_state', 'payment_value', 'review_score',\n",
       "       'customer_seller_distance'],\n",
       "      dtype='object')"
      ]
     },
     "execution_count": 23,
     "metadata": {},
     "output_type": "execute_result"
    }
   ],
   "source": [
    "df.columns"
   ]
  },
  {
   "cell_type": "code",
   "execution_count": 24,
   "metadata": {},
   "outputs": [
    {
     "data": {
      "text/plain": [
       "0         -9\n",
       "1         -3\n",
       "2        -14\n",
       "3         -6\n",
       "4        -16\n",
       "          ..\n",
       "107820    -8\n",
       "107821    -9\n",
       "107822   -13\n",
       "107823    -9\n",
       "107824   -14\n",
       "Name: order_delay_time, Length: 107825, dtype: int64"
      ]
     },
     "execution_count": 24,
     "metadata": {},
     "output_type": "execute_result"
    }
   ],
   "source": [
    "df[\"order_delay_time\"] = pd.to_datetime(df[\"order_delivered_customer_date\"]) - pd.to_datetime(df[\"order_estimated_delivery_date\"])\n",
    "df[\"order_delay_time\"] = df[\"order_delay_time\"].dt.days\n",
    "df[\"order_delay_time\"] "
   ]
  },
  {
   "cell_type": "code",
   "execution_count": 25,
   "metadata": {},
   "outputs": [
    {
     "data": {
      "text/plain": [
       "0         False\n",
       "1         False\n",
       "2         False\n",
       "3         False\n",
       "4         False\n",
       "          ...  \n",
       "107820    False\n",
       "107821    False\n",
       "107822    False\n",
       "107823    False\n",
       "107824    False\n",
       "Name: is_delayed, Length: 107825, dtype: bool"
      ]
     },
     "execution_count": 25,
     "metadata": {},
     "output_type": "execute_result"
    }
   ],
   "source": [
    "df['is_delayed'] = df['order_delay_time'] > 0\n",
    "df['is_delayed']"
   ]
  },
  {
   "cell_type": "code",
   "execution_count": 26,
   "metadata": {},
   "outputs": [
    {
     "data": {
      "text/plain": [
       "0         6\n",
       "1         7\n",
       "2         4\n",
       "3         7\n",
       "4         9\n",
       "         ..\n",
       "107820    8\n",
       "107821    5\n",
       "107822    7\n",
       "107823    6\n",
       "107824    3\n",
       "Name: order_time_to_process, Length: 107825, dtype: int64"
      ]
     },
     "execution_count": 26,
     "metadata": {},
     "output_type": "execute_result"
    }
   ],
   "source": [
    "df[\"order_time_to_process\"] = pd.to_datetime(df[\"shipping_limit_date\"]) - pd.to_datetime(df[\"order_purchase_timestamp\"])\n",
    "df[\"order_time_to_process\"] = df[\"order_time_to_process\"].dt.days\n",
    "df[\"order_time_to_process\"]"
   ]
  },
  {
   "cell_type": "code",
   "execution_count": 27,
   "metadata": {},
   "outputs": [],
   "source": [
    "df[\"product_volume_cm3\"] = df[\"product_length_cm\"] * df[\"product_height_cm\"] * df[\"product_width_cm\"]"
   ]
  },
  {
   "cell_type": "code",
   "execution_count": 28,
   "metadata": {},
   "outputs": [],
   "source": [
    "df[\"total_cost\"] = df[\"price\"] + df[\"freight_value\"]\t"
   ]
  },
  {
   "cell_type": "code",
   "execution_count": 29,
   "metadata": {},
   "outputs": [
    {
     "data": {
      "text/plain": [
       "array(['SP', 'MG', 'PR', 'SC', 'DF', 'RS', 'RJ', 'GO', 'MA', 'ES', 'BA',\n",
       "       'PI', 'RO', 'MT', 'CE', 'RN', 'PE', 'SE', 'MS', 'PB', 'PA', 'AM'],\n",
       "      dtype=object)"
      ]
     },
     "execution_count": 29,
     "metadata": {},
     "output_type": "execute_result"
    }
   ],
   "source": [
    "df['seller_state'].unique()"
   ]
  },
  {
   "cell_type": "code",
   "execution_count": 30,
   "metadata": {},
   "outputs": [],
   "source": [
    "def define_region(df, col):\n",
    "\n",
    "    regions = []\n",
    "    for d in df[col]:\n",
    "        if d in [\"AC\", \"AP\", \"AM\", \"PA\", \"RO\", \"RR\", \"TO\"]:\n",
    "            regions.append(\"Norte\")\n",
    "        elif d in [\"AL\", \"BA\", \"CE\", \"MA\", \"PB\", \"PE\", \"PI\", \"RN\", \"SE\"]:\n",
    "            regions.append(\"Nordeste\")\n",
    "        elif d in [\"DF\", \"GO\", \"MT\", \"MS\"]:\n",
    "            regions.append(\"Centro Oeste\")\n",
    "        elif d in [\"ES\", \"MG\", \"RJ\", \"SP\"]:\n",
    "            regions.append(\"Sudeste\")\n",
    "        elif d in [\"PR\", \"RS\", \"SC\"]:\n",
    "            regions.append(\"Sul\")\n",
    "\n",
    "    return regions\n",
    "\n",
    "df[\"seller_region\"] = define_region(df, \"seller_state\")\n",
    "\n",
    "df[\"customer_region\"] = define_region(df, \"customer_state\")"
   ]
  },
  {
   "cell_type": "code",
   "execution_count": 31,
   "metadata": {},
   "outputs": [
    {
     "data": {
      "text/plain": [
       "Index(['shipping_limit_date', 'price', 'freight_value',\n",
       "       'product_category_name', 'product_name_lenght',\n",
       "       'product_description_lenght', 'product_photos_qty', 'product_weight_g',\n",
       "       'product_length_cm', 'product_height_cm', 'product_width_cm',\n",
       "       'seller_zip_code_prefix', 'seller_city', 'seller_state', 'order_status',\n",
       "       'order_purchase_timestamp', 'order_approved_at',\n",
       "       'order_delivered_carrier_date', 'order_delivered_customer_date',\n",
       "       'order_estimated_delivery_date', 'customer_zip_code_prefix',\n",
       "       'customer_city', 'customer_state', 'payment_value', 'review_score',\n",
       "       'customer_seller_distance', 'order_delay_time', 'is_delayed',\n",
       "       'order_time_to_process', 'product_volume_cm3', 'total_cost',\n",
       "       'seller_region', 'customer_region'],\n",
       "      dtype='object')"
      ]
     },
     "execution_count": 31,
     "metadata": {},
     "output_type": "execute_result"
    }
   ],
   "source": [
    "df.columns"
   ]
  },
  {
   "cell_type": "markdown",
   "metadata": {},
   "source": [
    "# Deletando colunas"
   ]
  },
  {
   "cell_type": "code",
   "execution_count": 32,
   "metadata": {},
   "outputs": [],
   "source": [
    "df.drop(columns = ['shipping_limit_date', 'seller_zip_code_prefix', 'seller_city',\n",
    "                   'seller_state', 'order_purchase_timestamp', 'order_approved_at',\n",
    "                    'order_delivered_carrier_date', 'order_delivered_customer_date',\n",
    "                    'order_estimated_delivery_date', 'customer_zip_code_prefix',\n",
    "                    'customer_city', 'customer_state'], inplace = True)"
   ]
  },
  {
   "cell_type": "code",
   "execution_count": 33,
   "metadata": {},
   "outputs": [
    {
     "data": {
      "text/plain": [
       "Index(['price', 'freight_value', 'product_category_name',\n",
       "       'product_name_lenght', 'product_description_lenght',\n",
       "       'product_photos_qty', 'product_weight_g', 'product_length_cm',\n",
       "       'product_height_cm', 'product_width_cm', 'order_status',\n",
       "       'payment_value', 'review_score', 'customer_seller_distance',\n",
       "       'order_delay_time', 'is_delayed', 'order_time_to_process',\n",
       "       'product_volume_cm3', 'total_cost', 'seller_region', 'customer_region'],\n",
       "      dtype='object')"
      ]
     },
     "execution_count": 33,
     "metadata": {},
     "output_type": "execute_result"
    }
   ],
   "source": [
    "df.columns"
   ]
  },
  {
   "cell_type": "markdown",
   "metadata": {},
   "source": [
    "# Ajustando dados para o treinamento"
   ]
  },
  {
   "cell_type": "code",
   "execution_count": 34,
   "metadata": {},
   "outputs": [],
   "source": [
    "from sklearn.preprocessing import LabelEncoder\n",
    "\n",
    "df_modelagem = df.copy()\n",
    "\n",
    "le = LabelEncoder()\n",
    "le.fit(df_modelagem[\"seller_region\"])\n",
    "df_modelagem[\"seller_region\"] = le.transform(df_modelagem[\"seller_region\"])\n",
    "\n",
    "le = LabelEncoder()\n",
    "le.fit(df_modelagem[\"customer_region\"])\n",
    "df_modelagem[\"customer_region\"] = le.transform(df_modelagem[\"customer_region\"])\n",
    "\n",
    "le = LabelEncoder()\n",
    "le.fit(df_modelagem[\"product_category_name\"])\n",
    "df_modelagem[\"product_category_name\"] = le.transform(df_modelagem[\"product_category_name\"])\n",
    "\n",
    "le = LabelEncoder()\n",
    "le.fit(df_modelagem[\"order_status\"])\n",
    "df_modelagem[\"order_status\"] = le.transform(df_modelagem[\"order_status\"])"
   ]
  },
  {
   "cell_type": "markdown",
   "metadata": {},
   "source": [
    "# Definindo o Target"
   ]
  },
  {
   "cell_type": "code",
   "execution_count": 35,
   "metadata": {},
   "outputs": [],
   "source": [
    "df_modelagem['target'] = np.where(df_modelagem['review_score'] < 5, 0, 1)\n",
    "df_modelagem['target'].value_counts()\n",
    "\n",
    "df_modelagem.drop(columns = ['review_score'], inplace = True)"
   ]
  },
  {
   "cell_type": "code",
   "execution_count": 36,
   "metadata": {},
   "outputs": [
    {
     "data": {
      "text/plain": [
       "is_delayed                   -0.217949\n",
       "order_delay_time             -0.156001\n",
       "customer_seller_distance     -0.055029\n",
       "payment_value                -0.047895\n",
       "freight_value                -0.027849\n",
       "product_weight_g             -0.026718\n",
       "product_length_cm            -0.025050\n",
       "product_volume_cm3           -0.023352\n",
       "order_time_to_process        -0.021808\n",
       "product_name_lenght          -0.021234\n",
       "product_height_cm            -0.020203\n",
       "product_width_cm             -0.014549\n",
       "product_category_name        -0.008557\n",
       "order_status                  0.004721\n",
       "seller_region                 0.006440\n",
       "total_cost                    0.007142\n",
       "product_photos_qty            0.009464\n",
       "price                         0.009841\n",
       "product_description_lenght    0.010971\n",
       "customer_region               0.031289\n",
       "target                        1.000000\n",
       "Name: target, dtype: float64"
      ]
     },
     "execution_count": 36,
     "metadata": {},
     "output_type": "execute_result"
    }
   ],
   "source": [
    "df_modelagem.corr()['target'].sort_values()"
   ]
  },
  {
   "cell_type": "markdown",
   "metadata": {},
   "source": [
    "# Seleção de Features Inicial"
   ]
  },
  {
   "cell_type": "code",
   "execution_count": 37,
   "metadata": {},
   "outputs": [],
   "source": [
    "# Importações necessárias\n",
    "from sklearn.ensemble import RandomForestClassifier\n",
    "from sklearn.linear_model import LogisticRegression\n",
    "from sklearn.svm import SVC\n",
    "from xgboost import XGBClassifier\n",
    "from sklearn.metrics import classification_report\n",
    "from sklearn.tree import DecisionTreeClassifier\n",
    "from sklearn.model_selection import train_test_split"
   ]
  },
  {
   "cell_type": "code",
   "execution_count": 38,
   "metadata": {},
   "outputs": [],
   "source": [
    "features = [col for col in df_modelagem.columns if col != 'target']\n",
    "target = 'target'\n",
    "\n",
    "X = df_modelagem[features]\n",
    "y = df_modelagem[target]\n",
    "\n",
    "X_train, X_test, y_train, y_test = train_test_split(X, y, test_size=0.2, random_state=42)"
   ]
  },
  {
   "cell_type": "code",
   "execution_count": 39,
   "metadata": {},
   "outputs": [
    {
     "name": "stdout",
     "output_type": "stream",
     "text": [
      "Decision Tree Classifier\n",
      "              precision    recall  f1-score   support\n",
      "\n",
      "           0     0.5459    0.5649    0.5552      9033\n",
      "           1     0.6783    0.6613    0.6697     12532\n",
      "\n",
      "    accuracy                         0.6209     21565\n",
      "   macro avg     0.6121    0.6131    0.6125     21565\n",
      "weighted avg     0.6228    0.6209    0.6217     21565\n",
      "\n",
      "Random Forest Classifier\n",
      "              precision    recall  f1-score   support\n",
      "\n",
      "           0     0.6554    0.4665    0.5450      9033\n",
      "           1     0.6816    0.8232    0.7457     12532\n",
      "\n",
      "    accuracy                         0.6738     21565\n",
      "   macro avg     0.6685    0.6448    0.6454     21565\n",
      "weighted avg     0.6706    0.6738    0.6617     21565\n",
      "\n",
      "Logistic Regression Classifier\n",
      "              precision    recall  f1-score   support\n",
      "\n",
      "           0     0.6340    0.2569    0.3657      9033\n",
      "           1     0.6251    0.8931    0.7354     12532\n",
      "\n",
      "    accuracy                         0.6266     21565\n",
      "   macro avg     0.6295    0.5750    0.5506     21565\n",
      "weighted avg     0.6288    0.6266    0.5806     21565\n",
      "\n",
      "XGBoost Classifier\n",
      "              precision    recall  f1-score   support\n",
      "\n",
      "           0     0.6590    0.3702    0.4741      9033\n",
      "           1     0.6550    0.8620    0.7444     12532\n",
      "\n",
      "    accuracy                         0.6560     21565\n",
      "   macro avg     0.6570    0.6161    0.6092     21565\n",
      "weighted avg     0.6567    0.6560    0.6312     21565\n",
      "\n"
     ]
    }
   ],
   "source": [
    "# Modelo Decision Tree\n",
    "model_tree = DecisionTreeClassifier()\n",
    "model_tree.fit(X_train, y_train)\n",
    "y_pred_tree = model_tree.predict(X_test)\n",
    "print(\"Decision Tree Classifier\")\n",
    "print(classification_report(y_test, y_pred_tree, digits=4))\n",
    "\n",
    "# Modelo Random Forest\n",
    "model_rf = RandomForestClassifier()\n",
    "model_rf.fit(X_train, y_train)\n",
    "y_pred_rf = model_rf.predict(X_test)\n",
    "print(\"Random Forest Classifier\")\n",
    "print(classification_report(y_test, y_pred_rf, digits=4))\n",
    "\n",
    "# Modelo Logistic Regression\n",
    "model_lr = LogisticRegression(max_iter=1000)\n",
    "model_lr.fit(X_train, y_train)\n",
    "y_pred_lr = model_lr.predict(X_test)\n",
    "print(\"Logistic Regression Classifier\")\n",
    "print(classification_report(y_test, y_pred_lr, digits=4))\n",
    "\n",
    "# # Modelo SVM\n",
    "# model_svm = SVC()\n",
    "# model_svm.fit(X_train, y_train)\n",
    "# y_pred_svm = model_svm.predict(X_test)\n",
    "# print(\"Support Vector Machine Classifier\")\n",
    "# print(classification_report(y_test, y_pred_svm, digits=4))\n",
    "\n",
    "# Modelo XGBoost\n",
    "model_xgb = XGBClassifier()\n",
    "model_xgb.fit(X_train, y_train)\n",
    "y_pred_xgb = model_xgb.predict(X_test)\n",
    "print(\"XGBoost Classifier\")\n",
    "print(classification_report(y_test, y_pred_xgb, digits=4))"
   ]
  }
 ],
 "metadata": {
  "kernelspec": {
   "display_name": "base",
   "language": "python",
   "name": "python3"
  },
  "language_info": {
   "codemirror_mode": {
    "name": "ipython",
    "version": 3
   },
   "file_extension": ".py",
   "mimetype": "text/x-python",
   "name": "python",
   "nbconvert_exporter": "python",
   "pygments_lexer": "ipython3",
   "version": "3.11.7"
  }
 },
 "nbformat": 4,
 "nbformat_minor": 2
}
